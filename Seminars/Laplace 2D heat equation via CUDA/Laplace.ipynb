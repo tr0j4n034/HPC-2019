{
 "cells": [
  {
   "cell_type": "code",
   "execution_count": 1,
   "metadata": {},
   "outputs": [
    {
     "name": "stdout",
     "output_type": "stream",
     "text": [
      "Populating the interactive namespace from numpy and matplotlib\n"
     ]
    }
   ],
   "source": [
    "%pylab inline"
   ]
  },
  {
   "cell_type": "code",
   "execution_count": 36,
   "metadata": {},
   "outputs": [
    {
     "name": "stdout",
     "output_type": "stream",
     "text": [
      "0 0.125\n",
      "100 0.0023731033271273683\n",
      "200 0.0011983289073120296\n",
      "300 0.0008009834432521901\n",
      "400 0.0006019409548999044\n",
      "500 0.00048204933646806003\n",
      "600 0.00040183177267016923\n",
      "700 0.00034466213799616563\n",
      "800 0.0003017394445392618\n",
      "900 0.0002682489404358668\n"
     ]
    }
   ],
   "source": [
    "N=200\n",
    "M=200\n",
    "\n",
    "temp=1.0\n",
    "eps=0.0001\n",
    "maxiter = 1000\n",
    "\n",
    "T_old = np.zeros([M,N])\n",
    "T_new = np.zeros([M,N])\n",
    "\n",
    "T_old[0,:]=np.ones(N)*temp\n",
    "T_new[0,:]=np.ones(N)*temp\n",
    "\n",
    "count = 0\n",
    "err=eps+0.1\n",
    "\n",
    "T_old[0,:]=np.ones(N)*temp\n",
    "T_new[0,:]=np.ones(N)*temp\n",
    "    \n",
    "T_old[M-1,:]=np.zeros(N)\n",
    "T_new[M-1,:]=np.zeros(N)\n",
    "    \n",
    "T_old[:,0]=np.zeros(M)\n",
    "T_new[:,0]=np.zeros(M)\n",
    "    \n",
    "T_old[:,N-1]=np.zeros(M)\n",
    "T_new[:,N-1]=np.zeros(M)\n",
    "\n",
    "\n",
    "while (count<maxiter)and(err>eps):\n",
    "    err=0\n",
    "    for i in arange(1,M-1):\n",
    "        for j in arange(1, N-1):\n",
    "            T_new[i,j]=0.25*(T_old[i+1,j]+T_old[i-1,j]+T_old[i,j+1]+T_old[i,j-1])\n",
    "    \n",
    "    for i in arange(1,M-1):\n",
    "        for j in arange(1, N-1):\n",
    "            T_old[i,j]=0.25*(T_new[i+1,j]+T_new[i-1,j]+T_new[i,j+1]+T_new[i,j-1])\n",
    "            err = max(err, abs(T_old[i,j]-T_new[i,j]))\n",
    "    if(count%100==0):\n",
    "        print(count, err)\n",
    "        \n",
    "    count=count+2"
   ]
  },
  {
   "cell_type": "code",
   "execution_count": 37,
   "metadata": {},
   "outputs": [
    {
     "data": {
      "text/plain": [
       "<matplotlib.colorbar.Colorbar at 0x112e78908>"
      ]
     },
     "execution_count": 37,
     "metadata": {},
     "output_type": "execute_result"
    },
    {
     "data": {
      "image/png": "[encoded data removed]",
      "text/plain": [
       "<Figure size 432x288 with 2 Axes>"
      ]
     },
     "metadata": {
      "needs_background": "light"
     },
     "output_type": "display_data"
    }
   ],
   "source": [
    "imshow(T_old, cmap=jet())\n",
    "colorbar()"
   ]
  },
  {
   "cell_type": "code",
   "execution_count": 42,
   "metadata": {},
   "outputs": [
    {
     "name": "stdout",
     "output_type": "stream",
     "text": [
      "[[0.00000000e+00 1.00000000e+00 1.00000000e+00 ... 1.00000000e+00\n",
      "  1.00000000e+00 0.00000000e+00]\n",
      " [0.00000000e+00 4.99364333e-01 6.96382028e-01 ... 6.96382028e-01\n",
      "  4.99364333e-01 0.00000000e+00]\n",
      " [0.00000000e+00 3.01077844e-01 4.97462404e-01 ... 4.97462404e-01\n",
      "  3.01077844e-01 0.00000000e+00]\n",
      " ...\n",
      " [0.00000000e+00 2.92955264e-20 5.85298207e-20 ... 5.85298207e-20\n",
      "  2.92955264e-20 0.00000000e+00]\n",
      " [0.00000000e+00 1.35497872e-20 2.70701516e-20 ... 2.70701516e-20\n",
      "  1.35497872e-20 0.00000000e+00]\n",
      " [0.00000000e+00 0.00000000e+00 0.00000000e+00 ... 0.00000000e+00\n",
      "  0.00000000e+00 0.00000000e+00]]\n"
     ]
    }
   ],
   "source": [
    "print(T_old)"
   ]
  },
  {
   "cell_type": "code",
   "execution_count": 43,
   "metadata": {},
   "outputs": [
    {
     "name": "stdout",
     "output_type": "stream",
     "text": [
      "[[1.       1.       1.       ... 1.       1.       1.      ]\n",
      " [0.499364 0.696382 0.788706 ... 0.788706 0.696382 0.499364]\n",
      " [0.301078 0.497462 0.619483 ... 0.619483 0.497462 0.301078]\n",
      " ...\n",
      " [0.       0.       0.       ... 0.       0.       0.      ]\n",
      " [0.       0.       0.       ... 0.       0.       0.      ]\n",
      " [0.       0.       0.       ... 0.       0.       0.      ]]\n"
     ]
    }
   ],
   "source": [
    "print(data)"
   ]
  },
  {
   "cell_type": "code",
   "execution_count": 39,
   "metadata": {},
   "outputs": [],
   "source": [
    "data=genfromtxt('out.txt')"
   ]
  },
  {
   "cell_type": "code",
   "execution_count": 44,
   "metadata": {},
   "outputs": [
    {
     "data": {
      "text/plain": [
       "<matplotlib.colorbar.Colorbar at 0x112940a58>"
      ]
     },
     "execution_count": 44,
     "metadata": {},
     "output_type": "execute_result"
    },
    {
     "data": {
      "image/png": "[encoded data removed]",
      "text/plain": [
       "<Figure size 432x288 with 2 Axes>"
      ]
     },
     "metadata": {
      "needs_background": "light"
     },
     "output_type": "display_data"
    }
   ],
   "source": [
    "imshow(T_old, cmap=jet())\n",
    "colorbar()"
   ]
  },
  {
   "cell_type": "code",
   "execution_count": null,
   "metadata": {},
   "outputs": [],
   "source": []
  }
 ],
 "metadata": {
  "kernelspec": {
   "display_name": "Python 3",
   "language": "python",
   "name": "python3"
  },
  "language_info": {
   "codemirror_mode": {
    "name": "ipython",
    "version": 3
   },
   "file_extension": ".py",
   "mimetype": "text/x-python",
   "name": "python",
   "nbconvert_exporter": "python",
   "pygments_lexer": "ipython3",
   "version": "3.6.8"
  }
 },
 "nbformat": 4,
 "nbformat_minor": 2
}
