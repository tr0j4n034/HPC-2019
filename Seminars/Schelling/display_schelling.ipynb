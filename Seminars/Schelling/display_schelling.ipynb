{
 "cells": [
  {
   "cell_type": "code",
   "execution_count": null,
   "metadata": {},
   "outputs": [],
   "source": [
    "import os\n",
    "import numpy as np\n",
    "\n",
    "import matplotlib.pyplot as plt\n",
    "from matplotlib import animation\n",
    "%matplotlib inline\n",
    "plt.rcParams[\"animation.html\"] = \"jshtml\""
   ]
  },
  {
   "cell_type": "code",
   "execution_count": null,
   "metadata": {},
   "outputs": [],
   "source": [
    "psize = 4    # number of processes to use\n",
    "coef = 0.4\n",
    "n_iter = 50\n",
    "N = 720      # size of city"
   ]
  },
  {
   "cell_type": "code",
   "execution_count": null,
   "metadata": {},
   "outputs": [],
   "source": [
    "!rm dump*\n",
    "!mpirun -n {psize} --allow-run-as-root ./Schelling_MPI {coef} {n_iter} {N}"
   ]
  },
  {
   "cell_type": "code",
   "execution_count": null,
   "metadata": {},
   "outputs": [],
   "source": [
    "def read_one(step, proc):\n",
    "    filename = \"dump_{}_proc_{}.data\".format(step, proc)\n",
    "    data = np.fromfile(filename, dtype='int32')\n",
    "    data = data.reshape(int(N/psize), N)\n",
    "    return data\n",
    "\n",
    "def read_all(step):\n",
    "    arrs = [read_one(step, proc) for proc in range(psize)]\n",
    "    data = np.vstack(arrs)\n",
    "    return data"
   ]
  },
  {
   "cell_type": "code",
   "execution_count": null,
   "metadata": {},
   "outputs": [],
   "source": [
    "fig, ax = plt.subplots(figsize=(6,6))\n",
    "\n",
    "data = read_all(0)\n",
    "im = plt.imshow(data)\n",
    "\n",
    "def animate(step):\n",
    "    data = read_all(step)\n",
    "    pic = im.set_data(data)\n",
    "    return [pic]\n",
    "\n",
    "anim = animation.FuncAnimation(fig, animate, frames=n_iter)\n",
    "anim"
   ]
  },
  {
   "cell_type": "code",
   "execution_count": null,
   "metadata": {},
   "outputs": [],
   "source": []
  }
 ],
 "metadata": {
  "kernelspec": {
   "display_name": "Python 3",
   "language": "python",
   "name": "python3"
  },
  "language_info": {
   "codemirror_mode": {
    "name": "ipython",
    "version": 3
   },
   "file_extension": ".py",
   "mimetype": "text/x-python",
   "name": "python",
   "nbconvert_exporter": "python",
   "pygments_lexer": "ipython3",
   "version": "3.6.7"
  }
 },
 "nbformat": 4,
 "nbformat_minor": 2
}
