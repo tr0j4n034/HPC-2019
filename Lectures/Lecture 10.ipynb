{
 "cells": [
  {
   "cell_type": "markdown",
   "metadata": {
    "slideshow": {
     "slide_type": "slide"
    }
   },
   "source": [
    "High Performance Computing 2018/2019\n",
    "=======\n",
    "\n",
    "Lecture 10. High Performance Python. Numba\n",
    "----------\n",
    "\n",
    "Heavily based on (forked): \n",
    "\n",
    "Scipy2017 tutorial by Gil Forsyth:\n",
    "\n",
    "https://github.com/gforsyth/numba_tutorial_scipy2017\n",
    "\n",
    "https://www.youtube.com/watch?v=1AwG0T4gaO0&t=1349s\n",
    "\n",
    "GTC2018 tutorial by Stan Seibert:\n",
    "\n",
    "https://github.com/ContinuumIO/gtc2018-numba\n"
   ]
  },
  {
   "cell_type": "markdown",
   "metadata": {
    "slideshow": {
     "slide_type": "slide"
    }
   },
   "source": [
    "High Performance Python\n",
    "----------------------\n",
    "\n",
    "* multiprocessing\n",
    "* mpi4py\n",
    "* pycuda\n",
    "* pyopencl\n",
    "* **numba**"
   ]
  },
  {
   "cell_type": "markdown",
   "metadata": {
    "slideshow": {
     "slide_type": "slide"
    }
   },
   "source": [
    "Numba is:\n",
    "\n",
    "Just-In-Time (JIT) compiler:\n",
    "* generates optimized machine code using LLVM\n",
    "* integrates well with Scientific Python stack\n",
    "* **function compiler**: Numba compiles Python functions (not entire applications and not parts of functions). Numba is a Python module.\n",
    "* **type-specializing**: Numba speeds up your function by generating a specialized implementation for the specific data types you are using. \n",
    "* **just-in-time**: Numba translates functions when they are first called so that the compiler knows the argument types. Works in Jupyter notebook.\n",
    "* **numerically-focused**: „mostly“ int, float, complex. Works good with numpy arrays.\n"
   ]
  },
  {
   "cell_type": "markdown",
   "metadata": {
    "slideshow": {
     "slide_type": "slide"
    }
   },
   "source": [
    "The first step is always to find the bottlenecks in your code, via _profiling_: analyzing your code by measuring the execution time of its parts.\n",
    "\n",
    "\n",
    "Tools:\n",
    "------\n",
    "\n",
    "2. `cProfile`\n",
    "4. `snakeviz`\n",
    "1. [`line_profiler`](https://github.com/rkern/line_profiler)\n",
    "3. `timeit`\n",
    "\n",
    "\n",
    "\n",
    "```console\n",
    "pip install line_profiler\n",
    "```"
   ]
  },
  {
   "cell_type": "code",
   "execution_count": 1,
   "metadata": {},
   "outputs": [],
   "source": [
    "import numpy\n",
    "from time import sleep\n",
    "\n",
    "def sleepy(time2sleep):\n",
    "    sleep(time2sleep)\n",
    "    \n",
    "def supersleepy(time2sleep):\n",
    "    sleep(time2sleep)\n",
    "    \n",
    "def randmatmul(n=1000):\n",
    "    a = numpy.random.random((n,n))\n",
    "    b = a @ a\n",
    "    return b\n",
    "    \n",
    "def useless(a):\n",
    "    if not isinstance(a, int):\n",
    "        return\n",
    "    \n",
    "    randmatmul(a)\n",
    "    \n",
    "    ans = 0\n",
    "    for i in range(a):\n",
    "        ans += i\n",
    "        \n",
    "    sleepy(1.0)\n",
    "    supersleepy(2.0)\n",
    "        \n",
    "    return ans"
   ]
  },
  {
   "cell_type": "markdown",
   "metadata": {},
   "source": [
    "## using `cProfile`\n",
    "\n",
    "[`cProfile`](https://docs.python.org/3.4/library/profile.html#module-cProfile) is the built-in profiler in Python (available since Python 2.5).  It provides a function-by-function report of execution time. First import the module, then usage is simply a call to `cProfile.run()` with your code as argument. It will print out a list of all the functions that were called, with the number of calls and the time spent in each.\n"
   ]
  },
  {
   "cell_type": "code",
   "execution_count": 6,
   "metadata": {},
   "outputs": [
    {
     "name": "stdout",
     "output_type": "stream",
     "text": [
      "         11 function calls in 3.629 seconds\n",
      "\n",
      "   Ordered by: standard name\n",
      "\n",
      "   ncalls  tottime  percall  cumtime  percall filename:lineno(function)\n",
      "        1    0.460    0.460    0.603    0.603 <ipython-input-1-3d4635a3d65c>:10(randmatmul)\n",
      "        1    0.017    0.017    3.628    3.628 <ipython-input-1-3d4635a3d65c>:15(useless)\n",
      "        1    0.000    0.000    1.004    1.004 <ipython-input-1-3d4635a3d65c>:4(sleepy)\n",
      "        1    0.000    0.000    2.005    2.005 <ipython-input-1-3d4635a3d65c>:7(supersleepy)\n",
      "        1    0.000    0.000    3.629    3.629 <string>:1(<module>)\n",
      "        1    0.000    0.000    3.629    3.629 {built-in method builtins.exec}\n",
      "        1    0.000    0.000    0.000    0.000 {built-in method builtins.isinstance}\n",
      "        2    3.009    1.505    3.009    1.505 {built-in method time.sleep}\n",
      "        1    0.000    0.000    0.000    0.000 {method 'disable' of '_lsprof.Profiler' objects}\n",
      "        1    0.143    0.143    0.143    0.143 {method 'random_sample' of 'mtrand.RandomState' objects}\n",
      "\n",
      "\n"
     ]
    }
   ],
   "source": [
    "import cProfile\n",
    "\n",
    "cProfile.run('useless(3000)')"
   ]
  },
  {
   "cell_type": "markdown",
   "metadata": {},
   "source": [
    "## using `snakeviz`"
   ]
  },
  {
   "cell_type": "code",
   "execution_count": 2,
   "metadata": {},
   "outputs": [],
   "source": [
    "%load_ext snakeviz"
   ]
  },
  {
   "cell_type": "code",
   "execution_count": 4,
   "metadata": {},
   "outputs": [
    {
     "name": "stdout",
     "output_type": "stream",
     "text": [
      " \n",
      "*** Profile stats marshalled to file '/var/folders/mc/0c22tdns1s38xgw4sr17cmx80000gn/T/tmpg53pk483'. \n",
      "Embedding SnakeViz in the notebook...\n"
     ]
    },
    {
     "data": {
      "text/html": [
       "\n",
       "<iframe id='snakeviz-0a9c3cb4-760c-11e9-9376-3c15c2ceb0ea' frameborder=0 seamless width='100%' height='1000'></iframe>\n",
       "<script>$(\"#snakeviz-0a9c3cb4-760c-11e9-9376-3c15c2ceb0ea\").attr({src:\"http://\"+document.location.hostname+\":54434/snakeviz/%2Fvar%2Ffolders%2Fmc%2F0c22tdns1s38xgw4sr17cmx80000gn%2FT%2Ftmpg53pk483\"})</script>\n"
      ],
      "text/plain": [
       "<IPython.core.display.HTML object>"
      ]
     },
     "metadata": {},
     "output_type": "display_data"
    }
   ],
   "source": [
    "%snakeviz useless(3000)"
   ]
  },
  {
   "cell_type": "markdown",
   "metadata": {},
   "source": [
    "## using `line_profiler`\n",
    "\n",
    "`line_profiler` offers more granular information than `cProfile`: it will give timing information about each line of code in a profiled function.\n",
    "\n",
    "### For a pop-up window with results in notebook:\n",
    "\n",
    "IPython has an `%lprun` magic to profile specific functions within an executed statement. Usage:\n",
    "`%lprun -f func_to_profile <statement>` (get more help by running `%lprun?` in IPython)."
   ]
  },
  {
   "cell_type": "code",
   "execution_count": 11,
   "metadata": {},
   "outputs": [
    {
     "name": "stdout",
     "output_type": "stream",
     "text": [
      "The line_profiler extension is already loaded. To reload it, use:\n",
      "  %reload_ext line_profiler\n"
     ]
    }
   ],
   "source": [
    "%load_ext line_profiler\n",
    "%lprun -f sleepy -f supersleepy useless(1000)"
   ]
  },
  {
   "cell_type": "markdown",
   "metadata": {},
   "source": [
    "### Write results to a text file"
   ]
  },
  {
   "cell_type": "code",
   "execution_count": 13,
   "metadata": {},
   "outputs": [
    {
     "name": "stdout",
     "output_type": "stream",
     "text": [
      "\n",
      "*** Profile printout saved to text file 'timings.txt'. \n"
     ]
    }
   ],
   "source": [
    "%lprun -T timings.txt -f sleepy useless(1000)"
   ]
  },
  {
   "cell_type": "markdown",
   "metadata": {},
   "source": [
    "## Profiling on the command line\n",
    "\n",
    "Open file, add `@profile` decorator to any function you want to profile, then run\n",
    "\n",
    "```console\n",
    "kernprof -l script_to_profile.py\n",
    "```\n",
    "\n",
    "which will generate `script_to_profile.py.lprof` (pickled result).  To view the results, run\n",
    "\n",
    "```console\n",
    "python -m line_profiler script_to_profile.py.lprof\n",
    "```"
   ]
  },
  {
   "cell_type": "code",
   "execution_count": 18,
   "metadata": {},
   "outputs": [
    {
     "data": {
      "text/html": [
       "\n",
       "        <iframe\n",
       "            width=\"800\"\n",
       "            height=\"700\"\n",
       "            src=\"http://localhost:8888/terminals/1\"\n",
       "            frameborder=\"0\"\n",
       "            allowfullscreen\n",
       "        ></iframe>\n",
       "        "
      ],
      "text/plain": [
       "<IPython.lib.display.IFrame at 0x10f546c50>"
      ]
     },
     "execution_count": 18,
     "metadata": {},
     "output_type": "execute_result"
    }
   ],
   "source": [
    "from IPython.display import IFrame\n",
    "IFrame('http://localhost:8888/terminals/1', width=800, height=700)"
   ]
  },
  {
   "cell_type": "markdown",
   "metadata": {},
   "source": [
    "## `timeit`\n",
    "\n",
    "```python\n",
    "python -m timeit \"print(42)\"\n",
    "```\n"
   ]
  },
  {
   "cell_type": "code",
   "execution_count": 19,
   "metadata": {},
   "outputs": [
    {
     "name": "stdout",
     "output_type": "stream",
     "text": [
      "11.6 ns ± 0.0995 ns per loop (mean ± std. dev. of 7 runs, 100000000 loops each)\n"
     ]
    }
   ],
   "source": [
    "# line magic\n",
    "%timeit x=10"
   ]
  },
  {
   "cell_type": "code",
   "execution_count": 22,
   "metadata": {},
   "outputs": [
    {
     "name": "stdout",
     "output_type": "stream",
     "text": [
      "58.4 ns ± 1.85 ns per loop (mean ± std. dev. of 7 runs, 10000000 loops each)\n"
     ]
    }
   ],
   "source": [
    "%%timeit \n",
    "# cell magic\n",
    "\n",
    "x=10\n",
    "a='hello'\n",
    "d=[1,2,3]"
   ]
  },
  {
   "cell_type": "markdown",
   "metadata": {},
   "source": [
    "JIT\n",
    "===\n",
    "\n",
    "### Array sum\n",
    "\n",
    "The function below is a naive `sum` function that sums all the elements of a given array."
   ]
  },
  {
   "cell_type": "code",
   "execution_count": 23,
   "metadata": {},
   "outputs": [],
   "source": [
    "def sum_array(inp):\n",
    "    J, I = inp.shape\n",
    "    \n",
    "    #this is a bad idea\n",
    "    mysum = 0\n",
    "    for j in range(J):\n",
    "        for i in range(I):\n",
    "            mysum += inp[j, i]\n",
    "            \n",
    "    return mysum"
   ]
  },
  {
   "cell_type": "code",
   "execution_count": 24,
   "metadata": {},
   "outputs": [
    {
     "name": "stdout",
     "output_type": "stream",
     "text": [
      "18.2 ms ± 215 µs per loop (mean ± std. dev. of 7 runs, 100 loops each)\n"
     ]
    }
   ],
   "source": [
    "import numpy\n",
    "arr = numpy.random.random((300, 300))\n",
    "\n",
    "sum_array(arr)\n",
    "\n",
    "plain = %timeit -o sum_array(arr)"
   ]
  },
  {
   "cell_type": "code",
   "execution_count": 28,
   "metadata": {},
   "outputs": [
    {
     "name": "stdout",
     "output_type": "stream",
     "text": [
      "81.1 µs ± 1.64 µs per loop (mean ± std. dev. of 7 runs, 10000 loops each)\n"
     ]
    },
    {
     "data": {
      "text/plain": [
       "228.1761970125171"
      ]
     },
     "execution_count": 28,
     "metadata": {},
     "output_type": "execute_result"
    }
   ],
   "source": [
    "from numba import jit\n",
    "\n",
    "sum_array_numba = jit()(sum_array)\n",
    "\n",
    "sum_array_numba(arr)\n",
    "\n",
    "jitted = %timeit -o sum_array_numba(arr)\n",
    "\n",
    "plain.best / jitted.best\n"
   ]
  },
  {
   "cell_type": "markdown",
   "metadata": {},
   "source": [
    "## More commonly as a decorator"
   ]
  },
  {
   "cell_type": "code",
   "execution_count": null,
   "metadata": {},
   "outputs": [],
   "source": [
    "@jit\n",
    "def sum_array(inp):\n",
    "    I, J = inp.shape\n",
    "    \n",
    "    mysum = 0\n",
    "    for i in range(I):\n",
    "        for j in range(J):\n",
    "            mysum += inp[i, j]\n",
    "            \n",
    "    return mysum"
   ]
  },
  {
   "cell_type": "code",
   "execution_count": 26,
   "metadata": {},
   "outputs": [
    {
     "name": "stdout",
     "output_type": "stream",
     "text": [
      "39.1 µs ± 1.03 µs per loop (mean ± std. dev. of 7 runs, 10000 loops each)\n"
     ]
    }
   ],
   "source": [
    "%timeit arr.sum()"
   ]
  },
  {
   "cell_type": "markdown",
   "metadata": {},
   "source": [
    "## [Your turn!](./exercises/02.Intro.to.JIT.exercises.ipynb#JIT-Exercise)"
   ]
  },
  {
   "cell_type": "code",
   "execution_count": null,
   "metadata": {},
   "outputs": [],
   "source": []
  }
 ],
 "metadata": {
  "celltoolbar": "Slideshow",
  "kernelspec": {
   "display_name": "Python 3",
   "language": "python",
   "name": "python3"
  },
  "language_info": {
   "codemirror_mode": {
    "name": "ipython",
    "version": 3
   },
   "file_extension": ".py",
   "mimetype": "text/x-python",
   "name": "python",
   "nbconvert_exporter": "python",
   "pygments_lexer": "ipython3",
   "version": "3.6.8"
  }
 },
 "nbformat": 4,
 "nbformat_minor": 2
}
